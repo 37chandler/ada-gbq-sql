{
 "cells": [
  {
   "cell_type": "markdown",
   "metadata": {},
   "source": [
    "## Google BigQuery and SQLite Comparison\n",
    "\n",
    "This exercise explores the performance differences between GBQ and SQLite. In particular, we are interested in understanding the scalability of the two platforms with regard to amounts of data. \n",
    "\n",
    "---\n",
    "\n",
    "Start by running this next cell. This will be the only Python you need to run for this assignment. "
   ]
  },
  {
   "cell_type": "code",
   "execution_count": 1,
   "metadata": {},
   "outputs": [
    {
     "name": "stderr",
     "output_type": "stream",
     "text": [
      "/var/folders/5v/r5r3n8xs28vdt72b2vyqfb_r0000gn/T/ipykernel_26948/2519396135.py:5: DtypeWarning: Columns (38,43) have mixed types. Specify dtype option on import or set low_memory=False.\n",
      "  df = pd.read_csv('transaction_data.txt',sep=\"\\t\")\n"
     ]
    },
    {
     "data": {
      "text/plain": [
       "6316093"
      ]
     },
     "execution_count": 1,
     "metadata": {},
     "output_type": "execute_result"
    }
   ],
   "source": [
    "import pandas as pd\n",
    "import sqlite3\n",
    "\n",
    "# Read the file into a pandas DataFrame\n",
    "df = pd.read_csv('transaction_data.txt',sep=\"\\t\")\n",
    "\n",
    "# Count the number of rows\n",
    "num_rows = len(df)\n",
    "\n",
    "# Create DBs with different percentages of rows\n",
    "db_1_percent = df.head(int(num_rows * 0.01))\n",
    "db_10_percent = df.head(int(num_rows * 0.1))\n",
    "db_50_percent = df.head(int(num_rows * 0.5))\n",
    "db_100_percent = df.copy()\n",
    "\n",
    "# Create SQLite databases\n",
    "conn = sqlite3.connect('db_1_percent.db')\n",
    "db_1_percent.to_sql('transactions', conn, if_exists='replace', index=False)\n",
    "\n",
    "conn = sqlite3.connect('db_10_percent.db')\n",
    "db_10_percent.to_sql('transactions', conn, if_exists='replace', index=False)\n",
    "\n",
    "conn = sqlite3.connect('db_50_percent.db')\n",
    "db_50_percent.to_sql('transactions', conn, if_exists='replace', index=False)\n",
    "\n",
    "conn = sqlite3.connect('db_100_percent.db')\n",
    "db_100_percent.to_sql('transactions', conn, if_exists='replace', index=False)\n",
    "\n",
    "## This took about 2 minutes to run on my machine"
   ]
  },
  {
   "cell_type": "markdown",
   "metadata": {},
   "source": [
    "### The Query\n",
    "\n",
    "Now you'll write a query that is one of the ones you'll need for \"Wedge Project Task 3\". Write the query that asks you this: \n",
    "\n",
    "> Sales by date by hour: By calendar date (YYYY-MM-DD) and hour of the day, determine the total spend in the store, the number of transactions, and a count of the number of items.\n",
    "\n",
    "For our purposes, limit the transactions (using the `datetime` field) to those between 2015-01-01 and 2015-07-01. (This is the first half of 2015.) Write two versions of this query, one for GBQ and one for SQL. (ChatGPT is pretty good at converting queries from one form to the other.)\n",
    "\n",
    "Some things to recall from the Intro to SQL class: \n",
    "\n",
    "* Calculating the number of transactions is tricky and requires concatenation of the date, the register number, the employee number, and the transaction number.\n",
    "* A `trans_status` of \"V\" and \"R\" count as -1 item. The other `trans_status` values count as 1.\n",
    "* In the `WHERE` clause, we do not want departments of 0 and 15. \n",
    "* In the `WHERE` clause, we do not want `trans_status` of \"M\", \"C\", or \"J\". \n",
    "* In the `WHERE` clause, we do want `trans_status` values of NULL, 'V', 'R' or a space (\" \"). \n",
    "* For this exercise, but not for the overall Wedge project, filter for datetime between \"2015-01-01\" and \"2015-07-01\" \n",
    "\n"
   ]
  },
  {
   "cell_type": "code",
   "execution_count": null,
   "metadata": {
    "vscode": {
     "languageId": "sql"
    }
   },
   "outputs": [],
   "source": [
    "-- GBQ Version, run this against tabls in `umt-msba.transactions` or `umt-msba.wedge_transactions`\n",
    "\n",
    "-- Your query here    "
   ]
  },
  {
   "cell_type": "code",
   "execution_count": null,
   "metadata": {
    "vscode": {
     "languageId": "sql"
    }
   },
   "outputs": [],
   "source": [
    "-- SQLite Version\n",
    "\n",
    "-- Your query here    \n"
   ]
  },
  {
   "cell_type": "markdown",
   "metadata": {},
   "source": [
    "## Performance Comparison\n",
    "\n",
    "1. Run your query against the four SQLite DBs created above. Keep track of the number of `ms` for each query. \n",
    "2. Run your query against GBQ for just Q1 2015. Then run it against Q1 and Q2. Keep track of the query execution time for each. This can be found in the \"Job Description\" tab. \n",
    "3. Now run your query against all the `transArchive` tables in your dataset. Remove the clause in your `WHERE` statement that restricts the data to only the first half of 2015. \n",
    "3. How would you describe the changes in query execution time against larger data sets? Is the performance sub-linear, linear, or super-linear? "
   ]
  },
  {
   "cell_type": "markdown",
   "metadata": {},
   "source": [
    "| Platform | Size  | Run Time (ms) |\n",
    "|----------|-------|---------------|\n",
    "| SQLite   | 1%    |               |\n",
    "| SQLite   | 10%   |               |\n",
    "| SQLite   | 50%   |               |\n",
    "| SQLite   | 100%  |               |\n",
    "| GBQ      | Q1    |               |\n",
    "| GBQ      | H1    |               |\n",
    "| GBQ      | All   |               |\n"
   ]
  },
  {
   "cell_type": "markdown",
   "metadata": {},
   "source": []
  }
 ],
 "metadata": {
  "kernelspec": {
   "display_name": "base",
   "language": "python",
   "name": "python3"
  },
  "language_info": {
   "codemirror_mode": {
    "name": "ipython",
    "version": 3
   },
   "file_extension": ".py",
   "mimetype": "text/x-python",
   "name": "python",
   "nbconvert_exporter": "python",
   "pygments_lexer": "ipython3",
   "version": "3.11.7"
  }
 },
 "nbformat": 4,
 "nbformat_minor": 2
}
