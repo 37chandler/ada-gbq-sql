{
 "cells": [
  {
   "cell_type": "code",
   "execution_count": 2,
   "metadata": {},
   "outputs": [
    {
     "data": {
      "text/plain": [
       "6316093"
      ]
     },
     "execution_count": 2,
     "metadata": {},
     "output_type": "execute_result"
    }
   ],
   "source": [
    "import pandas as pd\n",
    "import sqlite3\n",
    "\n",
    "# Read the file into a pandas DataFrame\n",
    "df = pd.read_csv('transaction_data.txt')\n",
    "\n",
    "# Count the number of rows\n",
    "num_rows = len(df)\n",
    "\n",
    "# Create DBs with different percentages of rows\n",
    "db_1_percent = df.head(int(num_rows * 0.01))\n",
    "db_10_percent = df.head(int(num_rows * 0.1))\n",
    "db_50_percent = df.head(int(num_rows * 0.5))\n",
    "db_100_percent = df.copy()\n",
    "\n",
    "# Create SQLite databases\n",
    "conn = sqlite3.connect('db_1_percent.db')\n",
    "db_1_percent.to_sql('transactions', conn, if_exists='replace', index=False)\n",
    "\n",
    "conn = sqlite3.connect('db_10_percent.db')\n",
    "db_10_percent.to_sql('transactions', conn, if_exists='replace', index=False)\n",
    "\n",
    "conn = sqlite3.connect('db_50_percent.db')\n",
    "db_50_percent.to_sql('transactions', conn, if_exists='replace', index=False)\n",
    "\n",
    "conn = sqlite3.connect('db_100_percent.db')\n",
    "db_100_percent.to_sql('transactions', conn, if_exists='replace', index=False)"
   ]
  },
  {
   "cell_type": "code",
   "execution_count": null,
   "metadata": {},
   "outputs": [],
   "source": []
  }
 ],
 "metadata": {
  "kernelspec": {
   "display_name": "base",
   "language": "python",
   "name": "python3"
  },
  "language_info": {
   "codemirror_mode": {
    "name": "ipython",
    "version": 3
   },
   "file_extension": ".py",
   "mimetype": "text/x-python",
   "name": "python",
   "nbconvert_exporter": "python",
   "pygments_lexer": "ipython3",
   "version": "3.12.4"
  }
 },
 "nbformat": 4,
 "nbformat_minor": 2
}
